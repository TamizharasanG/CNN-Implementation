{
  "nbformat": 4,
  "nbformat_minor": 0,
  "metadata": {
    "colab": {
      "provenance": [],
      "authorship_tag": "ABX9TyPJLn1sG2aFjiu77QjWeGFV",
      "include_colab_link": true
    },
    "kernelspec": {
      "name": "python3",
      "display_name": "Python 3"
    },
    "language_info": {
      "name": "python"
    },
    "accelerator": "GPU",
    "gpuClass": "standard"
  },
  "cells": [
    {
      "cell_type": "markdown",
      "metadata": {
        "id": "view-in-github",
        "colab_type": "text"
      },
      "source": [
        "<a href=\"https://colab.research.google.com/github/TamizharasanG/CNN-Implementation/blob/main/Hand_written_digit_classification.ipynb\" target=\"_parent\"><img src=\"https://colab.research.google.com/assets/colab-badge.svg\" alt=\"Open In Colab\"/></a>"
      ]
    },
    {
      "cell_type": "markdown",
      "source": [
        "# **Hand written text classification**"
      ],
      "metadata": {
        "id": "gmnb23_CwBnZ"
      }
    },
    {
      "cell_type": "code",
      "execution_count": 1,
      "metadata": {
        "id": "46QtOyDfgLEz"
      },
      "outputs": [],
      "source": [
        "import tensorflow as tf\n",
        "from tensorflow.keras.models import Sequential\n",
        "from tensorflow.keras.layers import Dense, Conv2D, Flatten, MaxPooling2D\n",
        "from tensorflow.keras.datasets import mnist\n",
        "import matplotlib.pyplot as plt\n",
        "%matplotlib inline\n",
        "import numpy as np"
      ]
    },
    {
      "cell_type": "code",
      "source": [
        "(X_train, y_train) , (X_test, y_test) = mnist.load_data()"
      ],
      "metadata": {
        "id": "UxypIqOUggA4",
        "colab": {
          "base_uri": "https://localhost:8080/"
        },
        "outputId": "cefab33c-42c2-45cc-8b4e-1ec3ec33899a"
      },
      "execution_count": 2,
      "outputs": [
        {
          "output_type": "stream",
          "name": "stdout",
          "text": [
            "Downloading data from https://storage.googleapis.com/tensorflow/tf-keras-datasets/mnist.npz\n",
            "11490434/11490434 [==============================] - 2s 0us/step\n"
          ]
        }
      ]
    },
    {
      "cell_type": "code",
      "source": [
        "X_train.shape"
      ],
      "metadata": {
        "colab": {
          "base_uri": "https://localhost:8080/"
        },
        "id": "vBwKfjQ_hCmi",
        "outputId": "1f0d4fe8-750a-494d-b999-46a18bf81406"
      },
      "execution_count": 3,
      "outputs": [
        {
          "output_type": "execute_result",
          "data": {
            "text/plain": [
              "(60000, 28, 28)"
            ]
          },
          "metadata": {},
          "execution_count": 3
        }
      ]
    },
    {
      "cell_type": "code",
      "source": [
        "X_test.shape"
      ],
      "metadata": {
        "colab": {
          "base_uri": "https://localhost:8080/"
        },
        "id": "LWhbvE3KhGje",
        "outputId": "bb882d88-a466-43d4-fe73-325082d586c2"
      },
      "execution_count": 4,
      "outputs": [
        {
          "output_type": "execute_result",
          "data": {
            "text/plain": [
              "(10000, 28, 28)"
            ]
          },
          "metadata": {},
          "execution_count": 4
        }
      ]
    },
    {
      "cell_type": "code",
      "source": [
        "def plot_image(x, y, index):\n",
        "  plt.imshow(x[index])\n",
        "  plt.title(f\"The Number is ---> {y[index]}\")"
      ],
      "metadata": {
        "id": "gr4_nGJihK1B"
      },
      "execution_count": 5,
      "outputs": []
    },
    {
      "cell_type": "code",
      "source": [
        "plot_image(X_train, y_train, 50001)"
      ],
      "metadata": {
        "colab": {
          "base_uri": "https://localhost:8080/",
          "height": 452
        },
        "id": "JmKsgklRhjNv",
        "outputId": "7eeefa9d-b90a-4a0d-984b-d36e908d7763"
      },
      "execution_count": 6,
      "outputs": [
        {
          "output_type": "display_data",
          "data": {
            "text/plain": [
              "<Figure size 640x480 with 1 Axes>"
            ],
            "image/png": "[encoded data removed]"
          },
          "metadata": {}
        }
      ]
    },
    {
      "cell_type": "code",
      "source": [
        "X_train = X_train / 255\n",
        "X_test = X_test / 255"
      ],
      "metadata": {
        "id": "TMLwMvmzh9l3"
      },
      "execution_count": 7,
      "outputs": []
    },
    {
      "cell_type": "code",
      "source": [
        "model = Sequential()\n",
        "model.add(Conv2D(32, kernel_size = (3, 3), strides = (1, 1), padding = \"same\", activation = \"relu\", input_shape = (28, 28, 1)))\n",
        "model.add(MaxPooling2D((2, 2)))\n",
        "model.add(Conv2D(32, kernel_size = (3, 3), strides = (1, 1), padding = \"same\", activation = \"relu\"))\n",
        "model.add(MaxPooling2D((2, 2)))\n",
        "\n",
        "model.add(Flatten())\n",
        "model.add(Dense(64, activation = \"relu\"))\n",
        "model.add(Dense(32, activation = \"relu\"))\n",
        "model.add(Dense(10, activation = \"softmax\"))\n",
        "\n",
        "model.compile(optimizer = \"adam\", loss = \"sparse_categorical_crossentropy\", metrics = [\"accuracy\"])\n",
        "\n",
        "model.summary()\n"
      ],
      "metadata": {
        "colab": {
          "base_uri": "https://localhost:8080/"
        },
        "id": "Rn9rH73jiFWS",
        "outputId": "df97e1b6-4b4d-4b88-daf8-86863040a429"
      },
      "execution_count": 8,
      "outputs": [
        {
          "output_type": "stream",
          "name": "stdout",
          "text": [
            "Model: \"sequential\"\n",
            "_________________________________________________________________\n",
            " Layer (type)                Output Shape              Param #   \n",
            "=================================================================\n",
            " conv2d (Conv2D)             (None, 28, 28, 32)        320       \n",
            "                                                                 \n",
            " max_pooling2d (MaxPooling2D  (None, 14, 14, 32)       0         \n",
            " )                                                               \n",
            "                                                                 \n",
            " conv2d_1 (Conv2D)           (None, 14, 14, 32)        9248      \n",
            "                                                                 \n",
            " max_pooling2d_1 (MaxPooling  (None, 7, 7, 32)         0         \n",
            " 2D)                                                             \n",
            "                                                                 \n",
            " flatten (Flatten)           (None, 1568)              0         \n",
            "                                                                 \n",
            " dense (Dense)               (None, 64)                100416    \n",
            "                                                                 \n",
            " dense_1 (Dense)             (None, 32)                2080      \n",
            "                                                                 \n",
            " dense_2 (Dense)             (None, 10)                330       \n",
            "                                                                 \n",
            "=================================================================\n",
            "Total params: 112,394\n",
            "Trainable params: 112,394\n",
            "Non-trainable params: 0\n",
            "_________________________________________________________________\n"
          ]
        }
      ]
    },
    {
      "cell_type": "code",
      "source": [
        "#Early stopping\n",
        "import tensorflow as tf\n",
        "early_stopping = tf.keras.callbacks.EarlyStopping(\n",
        "    monitor=\"val_loss\",\n",
        "    min_delta=0.0001,\n",
        "    patience=20,\n",
        "    verbose=1,\n",
        "    mode=\"auto\",\n",
        "    baseline=None,\n",
        "    restore_best_weights=False,\n",
        "    start_from_epoch=0,\n",
        ")"
      ],
      "metadata": {
        "id": "yYCM4uPOkoTl"
      },
      "execution_count": 9,
      "outputs": []
    },
    {
      "cell_type": "code",
      "source": [
        "history = model.fit(X_train, y_train, validation_split = 0.3,epochs = 10, callbacks = early_stopping )"
      ],
      "metadata": {
        "colab": {
          "base_uri": "https://localhost:8080/"
        },
        "id": "0QeWV4vtkc2_",
        "outputId": "b4772b15-098c-4241-f361-1e886a245dfb"
      },
      "execution_count": 10,
      "outputs": [
        {
          "output_type": "stream",
          "name": "stdout",
          "text": [
            "Epoch 1/10\n",
            "1313/1313 [==============================] - 21s 6ms/step - loss: 0.2310 - accuracy: 0.9296 - val_loss: 0.1133 - val_accuracy: 0.9643\n",
            "Epoch 2/10\n",
            "1313/1313 [==============================] - 7s 6ms/step - loss: 0.0673 - accuracy: 0.9790 - val_loss: 0.0615 - val_accuracy: 0.9806\n",
            "Epoch 3/10\n",
            "1313/1313 [==============================] - 6s 5ms/step - loss: 0.0464 - accuracy: 0.9858 - val_loss: 0.0541 - val_accuracy: 0.9844\n",
            "Epoch 4/10\n",
            "1313/1313 [==============================] - 7s 5ms/step - loss: 0.0345 - accuracy: 0.9890 - val_loss: 0.0503 - val_accuracy: 0.9858\n",
            "Epoch 5/10\n",
            "1313/1313 [==============================] - 6s 5ms/step - loss: 0.0269 - accuracy: 0.9913 - val_loss: 0.0485 - val_accuracy: 0.9861\n",
            "Epoch 6/10\n",
            "1313/1313 [==============================] - 6s 5ms/step - loss: 0.0222 - accuracy: 0.9926 - val_loss: 0.0530 - val_accuracy: 0.9846\n",
            "Epoch 7/10\n",
            "1313/1313 [==============================] - 6s 4ms/step - loss: 0.0179 - accuracy: 0.9938 - val_loss: 0.0809 - val_accuracy: 0.9803\n",
            "Epoch 8/10\n",
            "1313/1313 [==============================] - 6s 5ms/step - loss: 0.0150 - accuracy: 0.9952 - val_loss: 0.0469 - val_accuracy: 0.9874\n",
            "Epoch 9/10\n",
            "1313/1313 [==============================] - 6s 5ms/step - loss: 0.0138 - accuracy: 0.9951 - val_loss: 0.0701 - val_accuracy: 0.9829\n",
            "Epoch 10/10\n",
            "1313/1313 [==============================] - 6s 5ms/step - loss: 0.0103 - accuracy: 0.9966 - val_loss: 0.0590 - val_accuracy: 0.9875\n"
          ]
        }
      ]
    },
    {
      "cell_type": "code",
      "source": [
        "model.evaluate(X_test,y_test)"
      ],
      "metadata": {
        "colab": {
          "base_uri": "https://localhost:8080/"
        },
        "id": "K5-IV49xm3kw",
        "outputId": "1285bf84-01c7-4b59-a9b7-bc1712568254"
      },
      "execution_count": 11,
      "outputs": [
        {
          "output_type": "stream",
          "name": "stdout",
          "text": [
            "313/313 [==============================] - 1s 2ms/step - loss: 0.0409 - accuracy: 0.9895\n"
          ]
        },
        {
          "output_type": "execute_result",
          "data": {
            "text/plain": [
              "[0.040920551866292953, 0.9894999861717224]"
            ]
          },
          "metadata": {},
          "execution_count": 11
        }
      ]
    },
    {
      "cell_type": "code",
      "source": [
        "y_pred = model.predict(X_test)"
      ],
      "metadata": {
        "colab": {
          "base_uri": "https://localhost:8080/"
        },
        "id": "KyDPc4TVHiGM",
        "outputId": "3aa6b2ef-5f9c-4660-83cb-9865a8261671"
      },
      "execution_count": 15,
      "outputs": [
        {
          "output_type": "stream",
          "name": "stdout",
          "text": [
            "313/313 [==============================] - 1s 3ms/step\n"
          ]
        }
      ]
    },
    {
      "cell_type": "code",
      "source": [
        "y_pred_act = []\n",
        "for i in y_pred:\n",
        "  y_pred_act.append(np.argmax(i))"
      ],
      "metadata": {
        "id": "j7O_NTXKLMA4"
      },
      "execution_count": 17,
      "outputs": []
    },
    {
      "cell_type": "markdown",
      "source": [
        "**Function for finding the progress of our model visuvally**\n",
        "\n",
        "---\n",
        "\n"
      ],
      "metadata": {
        "id": "gYMh9-KGMUTe"
      }
    },
    {
      "cell_type": "code",
      "source": [
        "#Simple function for exploring the data  in the dataset with their classes\n",
        "def plot_image_verify(x, y, index):\n",
        "  y_act = y_test\n",
        "  y_pred_act = []\n",
        "  for i in y:\n",
        "    y_pred_act.append(np.argmax(i))\n",
        "  plt.figure(figsize = (20, 2))\n",
        "  plt.imshow(x[index])\n",
        "  plt.title(f\"Predicted Number : {y_pred_act[index]}\")\n",
        "  ans = y_act[index]\n",
        "  plt.xlabel(f\"Actual Result : {y_act[index]}\")"
      ],
      "metadata": {
        "id": "wjS2qUTaHe5T"
      },
      "execution_count": 20,
      "outputs": []
    },
    {
      "cell_type": "code",
      "source": [
        "plot_image_verify(X_test, y_pred, 101)"
      ],
      "metadata": {
        "colab": {
          "base_uri": "https://localhost:8080/",
          "height": 256
        },
        "id": "uskM3xmyLHuE",
        "outputId": "27813daa-eb71-4ac3-ea01-933921df7812"
      },
      "execution_count": 24,
      "outputs": [
        {
          "output_type": "display_data",
          "data": {
            "text/plain": [
              "<Figure size 2000x200 with 1 Axes>"
            ],
            "image/png": "[encoded data removed]"
          },
          "metadata": {}
        }
      ]
    }
  ]
}