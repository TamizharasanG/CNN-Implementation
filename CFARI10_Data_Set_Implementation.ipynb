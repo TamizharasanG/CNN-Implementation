{
  "nbformat": 4,
  "nbformat_minor": 0,
  "metadata": {
    "colab": {
      "provenance": [],
      "authorship_tag": "ABX9TyP0i+jWmOcKVcRF0bVL3q9q",
      "include_colab_link": true
    },
    "kernelspec": {
      "name": "python3",
      "display_name": "Python 3"
    },
    "language_info": {
      "name": "python"
    },
    "accelerator": "GPU",
    "gpuClass": "standard"
  },
  "cells": [
    {
      "cell_type": "markdown",
      "metadata": {
        "id": "view-in-github",
        "colab_type": "text"
      },
      "source": [
        "<a href=\"https://colab.research.google.com/github/TamizharasanG/CNN-Implementation/blob/main/CFARI10_Data_Set_Implementation.ipynb\" target=\"_parent\"><img src=\"https://colab.research.google.com/assets/colab-badge.svg\" alt=\"Open In Colab\"/></a>"
      ]
    },
    {
      "cell_type": "markdown",
      "source": [
        "#**Cifar images classification**"
      ],
      "metadata": {
        "id": "J3MONLi-wIXx"
      }
    },
    {
      "cell_type": "code",
      "execution_count": 1,
      "metadata": {
        "id": "pqGBmdXygch7"
      },
      "outputs": [],
      "source": [
        "import pandas as pd\n",
        "import numpy as np\n",
        "import tensorflow as tf\n",
        "from tensorflow.keras.datasets import cifar10\n",
        "from tensorflow.keras.layers import Dense, Conv2D, MaxPooling2D, Flatten\n",
        "from tensorflow.keras.models import Sequential\n",
        "import matplotlib.pyplot as plt\n",
        "from sklearn.preprocessing import MinMaxScaler"
      ]
    },
    {
      "cell_type": "code",
      "source": [
        "(X_train, y_train), (X_test, y_test) = cifar10.load_data()"
      ],
      "metadata": {
        "colab": {
          "base_uri": "https://localhost:8080/"
        },
        "id": "47OSygWYhfZu",
        "outputId": "3e91cf39-e1c1-4c13-b3f1-6b1431fec8e2"
      },
      "execution_count": 2,
      "outputs": [
        {
          "output_type": "stream",
          "name": "stdout",
          "text": [
            "Downloading data from https://www.cs.toronto.edu/~kriz/cifar-10-python.tar.gz\n",
            "170498071/170498071 [==============================] - 2s 0us/step\n"
          ]
        }
      ]
    },
    {
      "cell_type": "code",
      "source": [
        "print(f\"X_train shape - {X_train.shape}, y_train shape - {y_train.shape}, X_test shape - {X_test.shape}, y_test shape - {y_test.shape}\")"
      ],
      "metadata": {
        "colab": {
          "base_uri": "https://localhost:8080/"
        },
        "id": "fJxKuMjwhroB",
        "outputId": "5961b3b5-3abe-42b3-e5a1-d498d8401d32"
      },
      "execution_count": 3,
      "outputs": [
        {
          "output_type": "stream",
          "name": "stdout",
          "text": [
            "X_train shape - (50000, 32, 32, 3), y_train shape - (50000, 1), X_test shape - (10000, 32, 32, 3), y_test shape - (10000, 1)\n"
          ]
        }
      ]
    },
    {
      "cell_type": "code",
      "source": [
        "classes = [\"airplane\", \"automobile\", \"bird\" , \"cat\" , \"deer\" , \"dog\" , \"frog\", \"horse\", \" ship\", \"truck\"]"
      ],
      "metadata": {
        "id": "_FQSqpFYMHDT"
      },
      "execution_count": 4,
      "outputs": []
    },
    {
      "cell_type": "code",
      "source": [
        "#Simple function for exploring the data  in the dataset with their classes\n",
        "def plot_image(x, y, index):\n",
        "  y = y.flatten()\n",
        "  plt.figure(figsize = (20, 2))\n",
        "  plt.imshow(x[index])\n",
        "  plt.title(classes[y[index]])"
      ],
      "metadata": {
        "id": "9q38WceJiRnC"
      },
      "execution_count": 5,
      "outputs": []
    },
    {
      "cell_type": "code",
      "source": [
        "plot_image(X_train, y_train, 77)"
      ],
      "metadata": {
        "colab": {
          "base_uri": "https://localhost:8080/",
          "height": 237
        },
        "id": "V1fryaI6MqsI",
        "outputId": "c25138e3-3cc4-49a3-907a-0dd9c122709a"
      },
      "execution_count": 6,
      "outputs": [
        {
          "output_type": "display_data",
          "data": {
            "text/plain": [
              "<Figure size 2000x200 with 1 Axes>"
            ],
            "image/png": "[encoded data removed]"
          },
          "metadata": {}
        }
      ]
    },
    {
      "cell_type": "code",
      "source": [
        "X_train_scaled = X_train / 255\n",
        "X_test_scaled = X_test / 255"
      ],
      "metadata": {
        "id": "qSHcA7b8-G3_"
      },
      "execution_count": 7,
      "outputs": []
    },
    {
      "cell_type": "code",
      "source": [
        "model = Sequential()\n",
        "model.add(Conv2D(32, (3, 3), activation = \"relu\" ,padding = \"same\", input_shape = (32, 32, 3)))\n",
        "model.add(MaxPooling2D((2, 2)))\n",
        "model.add(Conv2D(32, (3, 3), activation = \"relu\"))\n",
        "model.add(MaxPooling2D((2, 2)))\n",
        "model.add(Flatten())\n",
        "model.add(Dense(64, activation = \"relu\"))\n",
        "model.add(Dense(10, activation = \"softmax\"))\n",
        "\n",
        "model.compile(optimizer = \"adam\", loss = \"sparse_categorical_crossentropy\", metrics = [\"accuracy\"])\n",
        "\n",
        "#Early stopping\n",
        "import tensorflow as tf\n",
        "early_stopping = tf.keras.callbacks.EarlyStopping(\n",
        "    monitor=\"val_loss\",\n",
        "    min_delta=0.0001,\n",
        "    patience=20,\n",
        "    verbose=1,\n",
        "    mode=\"auto\",\n",
        "    baseline=None,\n",
        "    restore_best_weights=False,\n",
        "    start_from_epoch=0,\n",
        ")\n",
        "\n",
        "model.fit(X_train_scaled, y_train, epochs = 1000, validation_split = 0.3, callbacks = early_stopping)"
      ],
      "metadata": {
        "colab": {
          "base_uri": "https://localhost:8080/"
        },
        "id": "AqofK2zeN1Y5",
        "outputId": "59a9d975-4218-4d37-d1d6-29729e842408"
      },
      "execution_count": 8,
      "outputs": [
        {
          "output_type": "stream",
          "name": "stdout",
          "text": [
            "Epoch 1/1000\n",
            "1094/1094 [==============================] - 16s 5ms/step - loss: 1.5346 - accuracy: 0.4495 - val_loss: 1.3160 - val_accuracy: 0.5419\n",
            "Epoch 2/1000\n",
            "1094/1094 [==============================] - 9s 8ms/step - loss: 1.1650 - accuracy: 0.5874 - val_loss: 1.1094 - val_accuracy: 0.6112\n",
            "Epoch 3/1000\n",
            "1094/1094 [==============================] - 6s 5ms/step - loss: 1.0384 - accuracy: 0.6362 - val_loss: 1.0549 - val_accuracy: 0.6354\n",
            "Epoch 4/1000\n",
            "1094/1094 [==============================] - 5s 5ms/step - loss: 0.9527 - accuracy: 0.6675 - val_loss: 0.9886 - val_accuracy: 0.6543\n",
            "Epoch 5/1000\n",
            "1094/1094 [==============================] - 5s 5ms/step - loss: 0.8970 - accuracy: 0.6869 - val_loss: 1.0219 - val_accuracy: 0.6528\n",
            "Epoch 6/1000\n",
            "1094/1094 [==============================] - 7s 6ms/step - loss: 0.8448 - accuracy: 0.7051 - val_loss: 0.9577 - val_accuracy: 0.6730\n",
            "Epoch 7/1000\n",
            "1094/1094 [==============================] - 5s 5ms/step - loss: 0.7976 - accuracy: 0.7198 - val_loss: 0.9573 - val_accuracy: 0.6707\n",
            "Epoch 8/1000\n",
            "1094/1094 [==============================] - 6s 6ms/step - loss: 0.7542 - accuracy: 0.7352 - val_loss: 0.9558 - val_accuracy: 0.6799\n",
            "Epoch 9/1000\n",
            "1094/1094 [==============================] - 5s 5ms/step - loss: 0.7129 - accuracy: 0.7503 - val_loss: 0.9614 - val_accuracy: 0.6785\n",
            "Epoch 10/1000\n",
            "1094/1094 [==============================] - 6s 6ms/step - loss: 0.6791 - accuracy: 0.7607 - val_loss: 0.9826 - val_accuracy: 0.6764\n",
            "Epoch 11/1000\n",
            "1094/1094 [==============================] - 5s 4ms/step - loss: 0.6388 - accuracy: 0.7761 - val_loss: 0.9667 - val_accuracy: 0.6833\n",
            "Epoch 12/1000\n",
            "1094/1094 [==============================] - 5s 5ms/step - loss: 0.6038 - accuracy: 0.7880 - val_loss: 0.9946 - val_accuracy: 0.6849\n",
            "Epoch 13/1000\n",
            "1094/1094 [==============================] - 5s 5ms/step - loss: 0.5762 - accuracy: 0.7968 - val_loss: 1.0295 - val_accuracy: 0.6703\n",
            "Epoch 14/1000\n",
            "1094/1094 [==============================] - 5s 5ms/step - loss: 0.5454 - accuracy: 0.8083 - val_loss: 1.0704 - val_accuracy: 0.6745\n",
            "Epoch 15/1000\n",
            "1094/1094 [==============================] - 6s 5ms/step - loss: 0.5137 - accuracy: 0.8213 - val_loss: 1.1386 - val_accuracy: 0.6531\n",
            "Epoch 16/1000\n",
            "1094/1094 [==============================] - 5s 5ms/step - loss: 0.4879 - accuracy: 0.8287 - val_loss: 1.1441 - val_accuracy: 0.6638\n",
            "Epoch 17/1000\n",
            "1094/1094 [==============================] - 6s 5ms/step - loss: 0.4625 - accuracy: 0.8378 - val_loss: 1.1456 - val_accuracy: 0.6724\n",
            "Epoch 18/1000\n",
            "1094/1094 [==============================] - 5s 4ms/step - loss: 0.4357 - accuracy: 0.8466 - val_loss: 1.2049 - val_accuracy: 0.6601\n",
            "Epoch 19/1000\n",
            "1094/1094 [==============================] - 5s 5ms/step - loss: 0.4173 - accuracy: 0.8535 - val_loss: 1.2144 - val_accuracy: 0.6649\n",
            "Epoch 20/1000\n",
            "1094/1094 [==============================] - 5s 5ms/step - loss: 0.3885 - accuracy: 0.8632 - val_loss: 1.2913 - val_accuracy: 0.6665\n",
            "Epoch 21/1000\n",
            "1094/1094 [==============================] - 6s 5ms/step - loss: 0.3680 - accuracy: 0.8690 - val_loss: 1.2938 - val_accuracy: 0.6621\n",
            "Epoch 22/1000\n",
            "1094/1094 [==============================] - 5s 5ms/step - loss: 0.3476 - accuracy: 0.8782 - val_loss: 1.3206 - val_accuracy: 0.6602\n",
            "Epoch 23/1000\n",
            "1094/1094 [==============================] - 5s 4ms/step - loss: 0.3296 - accuracy: 0.8833 - val_loss: 1.4178 - val_accuracy: 0.6589\n",
            "Epoch 24/1000\n",
            "1094/1094 [==============================] - 6s 5ms/step - loss: 0.3107 - accuracy: 0.8904 - val_loss: 1.4653 - val_accuracy: 0.6569\n",
            "Epoch 25/1000\n",
            "1094/1094 [==============================] - 5s 5ms/step - loss: 0.2977 - accuracy: 0.8938 - val_loss: 1.5076 - val_accuracy: 0.6627\n",
            "Epoch 26/1000\n",
            "1094/1094 [==============================] - 5s 5ms/step - loss: 0.2769 - accuracy: 0.9034 - val_loss: 1.5641 - val_accuracy: 0.6563\n",
            "Epoch 27/1000\n",
            "1094/1094 [==============================] - 5s 5ms/step - loss: 0.2577 - accuracy: 0.9095 - val_loss: 1.6999 - val_accuracy: 0.6554\n",
            "Epoch 28/1000\n",
            "1094/1094 [==============================] - 5s 5ms/step - loss: 0.2518 - accuracy: 0.9099 - val_loss: 1.6903 - val_accuracy: 0.6505\n",
            "Epoch 28: early stopping\n"
          ]
        },
        {
          "output_type": "execute_result",
          "data": {
            "text/plain": [
              "<keras.callbacks.History at 0x7fbf547b7fa0>"
            ]
          },
          "metadata": {},
          "execution_count": 8
        }
      ]
    },
    {
      "cell_type": "code",
      "source": [
        "model.evaluate(X_test_scaled, y_test)"
      ],
      "metadata": {
        "colab": {
          "base_uri": "https://localhost:8080/"
        },
        "id": "JvkWVAMM8POB",
        "outputId": "03dd0c53-96bb-41a2-8eb6-c6334df5025b"
      },
      "execution_count": 9,
      "outputs": [
        {
          "output_type": "stream",
          "name": "stdout",
          "text": [
            "313/313 [==============================] - 1s 3ms/step - loss: 1.7064 - accuracy: 0.6512\n"
          ]
        },
        {
          "output_type": "execute_result",
          "data": {
            "text/plain": [
              "[1.7064405679702759, 0.651199996471405]"
            ]
          },
          "metadata": {},
          "execution_count": 9
        }
      ]
    },
    {
      "cell_type": "code",
      "source": [
        "y_pred = model.predict(X_test)\n",
        "y_pred = [np.argmax(i) for i in y_pred]\n",
        "y_pred"
      ],
      "metadata": {
        "id": "LMLPU8cK8ind"
      },
      "execution_count": null,
      "outputs": []
    },
    {
      "cell_type": "markdown",
      "source": [
        "**Function for finding the progress of our model**\n",
        "\n",
        "---\n",
        "\n"
      ],
      "metadata": {
        "id": "yYJoPpT0Fbyl"
      }
    },
    {
      "cell_type": "code",
      "source": [
        "#Simple function for exploring the data  in the dataset with their classes\n",
        "def plot_image_verify(x, y, index):\n",
        "  y_act = y_test.flatten()\n",
        "  plt.figure(figsize = (20, 2))\n",
        "  plt.imshow(x[index])\n",
        "  plt.title(f\"Predicted Result : {classes[y[index]]}\")\n",
        "  ans = y_act[index]\n",
        "  plt.xlabel(f\"Actual Result : {classes[ans]}\")"
      ],
      "metadata": {
        "id": "EI6IdVzXBzlj"
      },
      "execution_count": 26,
      "outputs": []
    },
    {
      "cell_type": "code",
      "source": [
        "plot_image_verify(X_test, y_pred, 15)"
      ],
      "metadata": {
        "colab": {
          "base_uri": "https://localhost:8080/",
          "height": 256
        },
        "id": "yrOaN6g9ECV2",
        "outputId": "b41e1457-b937-4463-c3e7-bb2264b1fbe5"
      },
      "execution_count": 27,
      "outputs": [
        {
          "output_type": "display_data",
          "data": {
            "text/plain": [
              "<Figure size 2000x200 with 1 Axes>"
            ],
            "image/png": "[encoded data removed]"
          },
          "metadata": {}
        }
      ]
    }
  ]
}